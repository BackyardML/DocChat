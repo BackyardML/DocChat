{
 "cells": [
  {
   "cell_type": "code",
   "execution_count": 1,
   "id": "ee4df33a-bb2b-4795-aa16-d10b3a2c411a",
   "metadata": {},
   "outputs": [],
   "source": [
    "import os\n",
    "from langchain.text_splitter import CharacterTextSplitter\n",
    "from langchain.vectorstores import Pinecone, Chroma\n",
    "from langchain.embeddings.openai import OpenAIEmbeddings\n",
    "from langchain.chains import ConversationalRetrievalChain\n",
    "from langchain.chat_models import ChatOpenAI\n"
   ]
  },
  {
   "cell_type": "code",
   "execution_count": 3,
   "id": "af367155-7194-4bea-860a-9eea10481f1f",
   "metadata": {},
   "outputs": [
    {
     "name": "stdin",
     "output_type": "stream",
     "text": [
      "OpenAI API Key: ········\n"
     ]
    }
   ],
   "source": [
    "import os\n",
    "import getpass\n",
    "os.environ['OPENAI_API_KEY'] = getpass.getpass('OpenAI API Key:')"
   ]
  },
  {
   "cell_type": "code",
   "execution_count": 7,
   "id": "1fdaab1f-63a2-4cb1-b20d-15511e0a466b",
   "metadata": {},
   "outputs": [],
   "source": [
    "from langchain.document_loaders import DirectoryLoader\n",
    "\n",
    "pdf_loader = DirectoryLoader('../documents/', glob=\"**/*.pdf\")\n",
    "readme_loader = DirectoryLoader('../documents/', glob=\"**/*.md\")\n",
    "txt_loader = DirectoryLoader('../documents/', glob=\"**/*.txt\")"
   ]
  },
  {
   "cell_type": "code",
   "execution_count": 8,
   "id": "86c5be9e-4655-4939-bae7-ec32f6730a72",
   "metadata": {},
   "outputs": [],
   "source": [
    "loaders = [pdf_loader, readme_loader, txt_loader]\n",
    "\n",
    "#lets create document \n",
    "documents = []\n",
    "for loader in loaders:\n",
    "    documents.extend(loader.load())"
   ]
  },
  {
   "cell_type": "code",
   "execution_count": 10,
   "id": "2c813f49-3a7a-4a55-abc4-d0cf618a8130",
   "metadata": {},
   "outputs": [
    {
     "name": "stdout",
     "output_type": "stream",
     "text": [
      "You have 2 document(s) in your data\n",
      "There are 41339 characters in your document\n"
     ]
    }
   ],
   "source": [
    "print (f'Found {len(documents)} document(s) the provided directory')\n",
    "print (f'The total number of characters is {len(documents[0].page_content)} characters in your document(s)')"
   ]
  },
  {
   "cell_type": "code",
   "execution_count": 11,
   "id": "b799e616-d320-42f6-94d7-62df950e0040",
   "metadata": {},
   "outputs": [
    {
     "data": {
      "text/plain": [
       "Document(page_content='3 2 0 2\\n\\ng u A 9\\n\\n] L C . s c [\\n\\n4 v 1 2 6 8 0 . 7 0 3 2 : v i X r a\\n\\nRetentive Network: A Successor to Transformer for Large Language Models\\n\\nYutao Sun∗ †‡ Li Dong∗ † Shaohan Huang† Shuming Ma† Yuqing Xia† Jilong Xue† Jianyong Wang‡ Furu Wei†⋄\\n\\n† Microsoft Research\\n\\n‡ Tsinghua University\\n\\nhttps://aka.ms/GeneralAI\\n\\nAbstract\\n\\nIn this work, we propose Retentive Network (RETNET) as a foundation archi- tecture for large language models, simultaneously achieving training parallelism, low-cost inference, and good performance. We theoretically derive the connection between recurrence and attention. Then we propose the retention mechanism for sequence modeling, which supports three computation paradigms, i.e., parallel, recurrent, and chunkwise recurrent. Specifically, the parallel representation allows for training parallelism. The recurrent representation enables low-cost O(1) infer- ence, which improves decoding throughput, latency, and GPU memory without sacrificing performance. The chunkwise recurrent representation facilitates effi- cient long-sequence modeling with linear complexity, where each chunk is encoded parallelly while recurrently summarizing the chunks. Experimental results on language modeling show that RETNET achieves favorable scaling results, parallel training, low-cost deployment, and efficient inference. The intriguing properties make RETNET a strong successor to Transformer for large language models. Code will be available at https://aka.ms/retnet.\\n\\n137LM PerplexityModel Size (B)\\n\\n0150300GPU Memory↓(GB)Throughput↑(wps)Latency↓(ms)3.4X15.6X8.4XInference CostScaling CurveRetNetTransformer\\n\\n0150300\\n\\n02040\\n\\nFigure 1: Retentive network (RetNet) achieves low-cost inference (i.e., GPU memory, throughput, and latency), training parallelism, and favorable scaling curves compared with Transformer. Results of inference cost are reported with 8k as input length. Figure 6 shows more results on different sequence lengths.\\n\\n∗ Equal contribution. ⋄ Corresponding author.\\n\\nArthur C. Clarke” “ The only way to discover the limits of the possible is to go beyond them into the impossible.\\n\\n1\\n\\nIntroduction\\n\\nTransformer [VSP+17] has become the de facto architecture for large language mod- els [BMR+20], which was initially proposed to overcome the sequential training issue of recurrent models [HS97]. However, training parallelism of Transformers is at the cost of in- efficient inference, because of the O(N ) com- plexity per step and memory-bound key-value cache [Sha19], which renders Transformers un- friendly to deployment. The growing sequence length increases GPU memory consumption as well as latency and reduces inference speed.\\n\\nNumerous efforts have continued to develop the next-generation architecture, aiming at retain- ing training parallelism and competitive perfor- mance as Transformers while having efficient O(1) inference. It is challenging to achieve the above goals simultaneously, i.e., the so-called “impossible triangle” as shown in Figure 2.\\n\\nLow-CostInference\\n\\nTransformerRetNet\\n\\nFigure 2: RetNet makes the “impossible triangle” possible, which achieves training parallelism, good performance, and low inference cost simultane- ously.\\n\\nThere have been three main strands of research. First, linearized attention [KVPF20] approximates standard attention scores exp(q · k) with kernels ϕ(q) · ϕ(k), so that autoregressive inference can be rewritten in a recurrent form. However, the modeling capability and performance are worse than Transformers, which hinders the method’s popu- larity. The second strand returns to recurrent models for efficient inference while sacrificing training parallelism. As a remedy, element-wise operators [PAA+23] are used for acceleration, however, representation capacity and performance are harmed. The third line of research explores replacing attention with other mechanisms, such as S4 [GGR21], and its variants [DFS+22, PMN+23]. None of the previous work can break through the impossible triangle, resulting in no clear winner compared with Transformers.\\n\\nIn this work, we propose retentive networks (RetNet), achieving low-cost inference, efficient long- sequence modeling, Transformer-comparable performance, and parallel model training simultane- ously. Specifically, we introduce a multi-scale retention mechanism to substitute multi-head attention, which has three computation paradigms, i.e., parallel, recurrent, and chunkwise recurrent repre- sentations. First, the parallel representation empowers training parallelism to utilize GPU devices fully. Second, the recurrent representation enables efficient O(1) inference in terms of memory and computation. The deployment cost and latency can be significantly reduced. Moreover, the implementation is greatly simplified without key-value cache tricks. Third, the chunkwise recurrent representation can perform efficient long-sequence modeling. We parallelly encode each local block for computation speed while recurrently encoding the global blocks to save GPU memory.\\n\\nWe conduct extensive experiments to compare RetNet with Transformer and its variants. Experi- mental results on language modeling show that RetNet is consistently competitive in terms of both scaling curves and in-context learning. Moreover, the inference cost of RetNet is length-invariant. For a 7B model and 8k sequence length, RetNet decodes 8.4× faster and saves 70% of memory than Transformers with key-value caches. During training, RetNet also achieves 25-50% memory saving and 7× acceleration than standard Transformer and an advantage towards highly-optimized FlashAttention [DFE+22]. Besides, RetNet’s inference latency is insensitive to batch size, allowing enormous throughput. The intriguing properties make RetNet a strong successor to Transformer for large language models.\\n\\n2\\n\\n2 Retentive Networks\\n\\nRetentive network (RetNet) is stacked with L identical blocks, which follows a similar layout (i.e., residual connection, and pre-LayerNorm) as in Transformer [VSP+17]. Each RetNet block contains two modules: a multi-scale retention (MSR) module, and a feed-forward network (FFN) module. We introduce the MSR module in the following sections. Given an input sequence x = x1 · · · x|x|, RetNet encodes the sequence in an autoregressive way. The input vectors {xi}|x| i=1 is first packed into X 0 = [x1, · · · , x|x|] ∈ R|x|×dmodel , where dmodel is hidden dimension. Then we compute contextualized vector representations X l = RetNetl(X l−1), l ∈ [1, L].\\n\\n2.1 Retention\\n\\nIn this section, we introduce the retention mechanism that has a dual form of recurrence and parallelism. So we can train the models in a parallel way while recurrently conducting inference. Given input X ∈ R|x|×dmodel , we project it to one-dimensional function v(n) = Xn · wV . Consider a sequence modeling problem that maps v(n) (cid:55)→ o(n) through states sn. Let vn, on denote v(n), o(n) for simplicity. We formulate the mapping in a recurrent manner:\\n\\nsn = Asn−1 + K ⊺ n (cid:88)\\n\\non = Qnsn =\\n\\nnvn,\\n\\nQnAn−mK ⊺\\n\\nmvm,\\n\\nA ∈ Rd×d, Kn ∈ R1×d\\n\\nQn ∈ R1×d\\n\\nm=1\\n\\nwhere we map vn to the state vector sn, and then implement a linear transform to encode sequence information recurrently.\\n\\nNext, we make the projection Qn, Kn content-aware:\\n\\nQ = XWQ, K = XWK\\n\\nwhere WQ, WK ∈ Rd×d are learnable matrices. We diagonalize the matrix A = Λ(γeiθ)Λ−1, where γ, θ ∈ Rd. Then we obtain An−m = Λ(γeiθ)n−mΛ−1. By absorbing Λ into WQ and WK, we can rewrite Equation (1) as:\\n\\non =\\n\\nn (cid:88)\\n\\nQn(γeiθ)n−mK ⊺\\n\\nmvm\\n\\n=\\n\\nm=1 n (cid:88)\\n\\n(Qn(γeiθ)n)(Km(γeiθ)−m)⊺vm\\n\\nm=1\\n\\nwhere Qn(γeiθ)n, Km(γeiθ)−m is known as xPos [SDP+22], i.e., a relative position embedding proposed for Transformer. We further simplify γ as a scalar, Equation (3) becomes:\\n\\non =\\n\\nn (cid:88)\\n\\nγn−m(Qneinθ)(Kmeimθ)†vm\\n\\nm=1\\n\\nwhere † is the conjugate transpose. The formulation is easily parallelizable within training instances.\\n\\nIn summary, we start with recurrent modeling as shown in Equation (1), and then derive its parallel formulation in Equation (4). We consider the original mapping v(n) (cid:55)→ o(n) as vectors and obtain the retention mechanism as follows.\\n\\nThe Parallel Representation of Retention As shown in Figure 3a, the retention layer is defined as:\\n\\nQ = (XWQ) ⊙ Θ, K = (XWK) ⊙ Θ,\\n\\nV = XWV\\n\\nΘn = einθ, Dnm =\\n\\n(cid:26)γn−m, n ≥ m n < m\\n\\n0,\\n\\nRetention(X) = (QK ⊺ ⊙ D)V\\n\\nwhere Θ is the complex conjugate of Θ, and D ∈ R|x|×|x| combines causal masking and exponential decay along relative distance as one matrix. Similar to self-attention, the parallel representation enables us to train the models with GPUs efficiently.\\n\\n3\\n\\n(1)\\n\\n(2)\\n\\n(3)\\n\\n(4)\\n\\n(5)\\n\\n𝑂\\n\\n𝑄\\n\\n𝑄𝐾⊺⊙𝐷𝑉\\n\\n𝑋\\n\\nGN\\n\\n𝑉\\n\\n𝐾\\n\\n𝐾𝑛\\n\\n𝑉𝑛\\n\\n𝑆𝑛\\n\\n𝑂𝑛RecurrentStateInputOutput\\n\\n𝑋𝑛\\n\\nGN\\n\\n𝛾\\n\\n𝑄𝑛\\n\\n𝑆𝑛−1\\n\\n(a) Parallel representation.\\n\\n(b) Recurrent representation.\\n\\nFigure 3: Dual form of RetNet. “GN” is short for GroupNorm.\\n\\nThe Recurrent Representation of Retention As shown in Figure 3b, the proposed mechanism can also be written as recurrent neural networks (RNNs), which is favorable for inference. For the n-th timestep, we recurrently obtain the output as:\\n\\nSn = γSn−1 + K ⊺ Retention(Xn) = QnSn, n = 1, · · · , |x|\\n\\nnVn\\n\\nwhere Q, K, V, γ are the same as in Equation (5).\\n\\nThe Chunkwise Recurrent Representation of Retention A hybrid form of parallel representation and recurrent representation is available to accelerate training, especially for long sequences. We divide the input sequences into chunks. Within each chunk, we follow the parallel representation (Equation (5)) to conduct computation. In contrast, cross-chunk information is passed following the recurrent representation (Equation (6)). Specifically, let B denote the chunk length. We compute the retention output of the i-th chunk via:\\n\\nQ[i] = QBi:B(i+1), K[i] = KBi:B(i+1), Ri = K\\n\\nV[i] = VBi:B(i+1)\\n\\n⊺\\n\\n[i](V[i] ⊙ ζ) + γBRi−1, ⊺ [i] ⊙ D)V[i] (cid:123)(cid:122) (cid:125) Inner-Chunk\\n\\nζij = γB−i−1\\n\\nξij = γi+1\\n\\nRetention(X[i]) = (Q[i]K\\n\\n, + (Q[i]Ri−1) ⊙ ξ (cid:125) (cid:123)(cid:122) Cross-Chunk\\n\\n(cid:124)\\n\\n(cid:124)\\n\\nwhere [i] indicates the i-th chunk, i.e., x[i] = [x(i−1)B+1, · · · , xiB].\\n\\n2.2 Gated Multi-Scale Retention\\n\\nWe use h = dmodel/d retention heads in each layer, where d is the head dimension. The heads use different parameter matrices WQ, WK, WV ∈ Rd×d. Moreover, multi-scale retention (MSR) assigns different γ for each head. For simplicity, we set γ identical among different layers and keep them fixed. In addition, we add a swish gate [HG16, RZL17] to increase the non-linearity of retention layers. Formally, given input X, we define the layer as:\\n\\nγ = 1 − 2−5−arange(0,h) ∈ Rh\\n\\nheadi = Retention(X, γi)\\n\\nY = GroupNormh(Concat(head1, · · · , headh))\\n\\nMSR(X) = (swish(XWG) ⊙ Y )WO\\n\\nwhere WG, WO ∈ Rdmodel×dmodel are learnable parameters, and GroupNorm [WH18] normalizes the output of each head, following SubLN proposed in [SPP+19]. Notice that the heads use multiple γ scales, which results in different variance statistics. So we normalize the head outputs separately.\\n\\nThe pseudocode of retention is summarized in Figure 4.\\n\\n4\\n\\n(6)\\n\\n(7)\\n\\n(8)\\n\\ndef ParallelRetention(\\n\\ndef RecurrentRetention(\\n\\nq, # bsz ∗ num_head ∗ len ∗ qk_dim k, # bsz ∗ num_head ∗ len ∗ qk_dim v, # bsz ∗ num_head ∗ len ∗ v_dim decay_mask # num_head ∗ len ∗ len ): retention = q @ k.transpose(−1, −2) retention = retention ∗ decay_mask output = retention @ v output = group_norm(output) return output\\n\\nq, k, v, # bsz ∗ num_head ∗ len ∗ qkv_dim past_kv, # bsz ∗ num_head ∗ qk_dim ∗ v_dim decay # num_head ∗ 1 ∗ 1 ): current_kv = decay ∗ past_kv + k.unsqueeze\\n\\n(−1) ∗ v.unsqueeze(−2)\\n\\noutput = torch.sum(q.unsqueeze(−1) ∗\\n\\ncurrent_kv, dim=−2) output = group_norm(output) return output, current_kv\\n\\ndef ChunkwiseRetention(\\n\\nq, k, v, # bsz ∗ num_head ∗ chunk_size ∗ qkv_dim past_kv, # bsz ∗ num_head ∗ qk_dim ∗ v_dim decay_mask, # num_head ∗ chunk_size ∗ chunk_size chunk_decay, # num_head ∗ 1 ∗ 1 inner_decay, # num_head ∗ chunk_size ): retention = q @ k.transpose(−1, −2) retention = retention ∗ decay_mask inner_retention = retention @ v cross_retention = (q @ past_kv) ∗ inner_decay retention = inner_retention + cross_retention output = group_norm(retention) current_kv = chunk_decay ∗ past_kv + k.transpose(−1, −2) @ v return output, current_kv\\n\\nFigure 4: Pseudocode for the three computation paradigms of retention.\\n\\nRetention Score Normalization We utilize the scale-invariant nature of GroupNorm to im- prove the numerical precision of retention layers. Specifically, multiplying a scalar value within GroupNorm does not affect outputs and backward gradients, i.e., GroupNorm(α ∗ headi) = GroupNorm(headi). We implement three normalization factors in Equation (5). First, we normalize √ QK ⊺ as QK⊺/ d. Second, we replace D with ˜Dnm = Dnm/ i=1 Dni. Third, let R denote the retention scores R = QK ⊺ ⊙ D, we normalize it as ˜Rnm = Rnm/max(| (cid:80)n i=1 Rni|,1). Then the retention output becomes Retention(X) = ˜RV . The above tricks do not affect the final results while stabilizing the numerical flow of both forward and backward passes, because of the scale-invariant property.\\n\\n√\\n\\n(cid:80)n\\n\\n2.3 Overall Architecture of Retention Networks\\n\\nFor an L-layer retention network, we stack multi-scale retention (MSR) and feed-forward network (FFN) to build the model. Formally, the input sequence {xi}|x| i=1 is transformed to vectors by a word embedding layer. We use the packed embeddings X 0 = [x1, · · · , x|x|] ∈ R|x|×dmodel as the input and compute the model output X L:\\n\\nY l = MSR(LN(X l)) + X l X l+1 = FFN(LN(Y l)) + Y l\\n\\nwhere LN(·) is LayerNorm [BKH16]. The FFN part is computed as FFN(X) = gelu(XW1)W2, where W1, W2 are parameter matrices.\\n\\nTraining We use the parallel (Equation (5)) and chunkwise recurrent (Equation (7)) representations during the training process. The parallelization within sequences or chunks efficiently utilizes GPUs to accelerate computation. More favorably, chunkwise recurrence is especially useful for long-sequence training, which is efficient in terms of both FLOPs and memory consumption.\\n\\n5\\n\\n(9)\\n\\nArchitectures\\n\\nTransformer Linear Transformer Recurrent NN RWKV H3/S4 Hyena RetNet\\n\\nTraining Parallelization ✔ ✔ ✘ ✘ ✔ ✔ ✔\\n\\nInference Cost\\n\\nO(N ) O(1) O(1) O(1) O(1) O(N ) O(1)\\n\\nLong-Sequence Memory Complexity O(N 2) O(N ) O(N ) O(N ) O(N log N ) O(N log N ) O(N )\\n\\nPerformance\\n\\n✔✔ ✘ ✘ ✔ ✔ ✔ ✔✔\\n\\nTable 1: Model comparison from various perspectives. RetNet achieves training parallelization, constant inference cost, linear long-sequence memory complexity, and good performance.\\n\\nInference The recurrent representation (Equation (6)) is employed during the inference, which nicely fits autoregressive decoding. The O(1) complexity reduces memory and inference latency while achieving equivalent results.\\n\\n2.4 Relation to and Differences from Previous Methods\\n\\nTable 1 compares RetNet with previous methods from various perspectives. The comparison results echo the “impossible triangle” presented in Figure 2. Moreover, RetNet has linear memory complexity for long sequences due to the chunkwise recurrent representation. We also summarize the comparisons with specific methods as follows.\\n\\nTransformer The parallel representation of retention shares similar spirits as Transform- ers [VSP+17]. The most related Transformer variant is Lex Transformer [SDP+22] which im- plements xPos as position embeddings. As described in Equation (3), the derivation of retention aligns with xPos. In comparison with attention, retention removes softmax and enables recurrent formulation, which significantly benefits inference.\\n\\nS4 Unlike Equation (2), if Qn and Kn are content-unaware, the formulation can be degenerated to S4 [GGR21], where O = (QK ⊺, QAK ⊺, .., QA|x|−1K ⊺) ∗ V .\\n\\nLinear Attention The variants typically use various kernels ϕ(qi)ϕ(kj )/(cid:80)|x| n=1 ϕ(qi)ϕ(kn) to replace the softmax function. However, linear attention struggles to effectively encode position information, rendering the models less performant. Besides, we reexamine sequence modeling from scratch, rather than aiming at approximating softmax.\\n\\nAFT/RWKV Attention Free Transformer (AFT) simplifies dot-product attention to element-wise operations and moves softmax to key vectors. RWKV replaces AFT’s position embeddings with exponential decay and runs the models recurrently for training and inference. In comparison, retention preserves high-dimensional states to encode sequence information, which contributes to expressive ability and better performance.\\n\\nxPos/RoPE Compared with relative position embedding methods proposed for Transformers, Equation (3) presents a similar formulation as xPos [SDP+22] and RoPE [SLP+21].\\n\\nSub-LayerNorm As shown in Equation (8), the retention layer uses Sub-LayerNorm [WMH+22] to normalize outputs. Because the multi-scale modeling leads to different variances for the heads, we replace the original LayerNorm with GroupNorm.\\n\\n3 Experiments\\n\\nWe conduct experiments on language modeling to evaluate RetNet. We evaluate the proposed architecture with various benchmarks, i.e., language modeling performance, and zero-/few-shot learning on downstream tasks. Moreover, for training and inference, we compare speed, memory consumption, and latency.\\n\\n6\\n\\nSize Hidden Dim.\\n\\n#Layers Batch Size\\n\\n# Tokens Learning Rate\\n\\n1.3B 2.7B 6.7B\\n\\n2048 2560 4096\\n\\n24 32 32\\n\\n4M 4M 4M\\n\\n100B 100B 100B\\n\\n6 × 10−4 3 × 10−4 3 × 10−4\\n\\nTable 2: Sizes, and learning hyper-parameters of the models in language modeling experiments.\\n\\nTransformer\\n\\nRetNet\\n\\n13.5\\n\\n14.0\\n\\n14.5\\n\\n2.7B\\n\\n12.5\\n\\n13.0\\n\\n15.0Validation PPL\\n\\n1.3B\\n\\n6.7BModel Size\\n\\nFigure 5: Perplexity decreases along with scaling up the model size. We empirically observe that RetNet tends to outperform Transformer when the model size is larger than 2B.\\n\\n3.1 Setup\\n\\nParameter Allocation We re-allocate the parameters in MSR and FFN for fair comparisons. Let d denote dmodel for simplicity here. In Transformers, there are about 4d2 parameters in self-attention where WQ, WK, WV , WO ∈ Rd×d, and 8d2 parameters in FFN where the intermediate dimension is 4d. In comparison, RetNet has 8d2 parameters in retention, where WQ, WK ∈ Rd×d, WG, WV ∈ Rd×2d, WO ∈ R2d×d. Notice that the head dimension of V is twice Q, K. The widened dimension is projected back to d by WO. In order to keep the parameter number the same as Transformer, the FFN intermediate dimension in RetNet is 2d. Meanwhile, we set the head dimension to 256 in our experiments, i.e., 256 for queries and keys, and 512 for values. For fair comparison, we keep γ identical among different model sizes, where γ = 1 − elinspace(log 1/32,log 1/512,h) ∈ Rh instead of the default value in Equation (8).\\n\\nLanguage Model Training As shown in Table 2, we train language models with various sizes (i.e., 1.3B, 2.7B, and 6.7B) from scratch. The training corpus is a curated compilation of The Pile [GBB+20], C4 [DMI+21], and The Stack [KLBA+22]. We append the <bos> token to indicate the start of a sequence2. The training batch size is 4M tokens with 2048 maximal length. We train the models with 100B tokens, i.e., 25k steps. We use the AdamW [LH19] optimizer with β1 = 0.9, β2 = 0.98, and weight decay is set to 0.05. The number of warmup steps is 375 with linear learning rate decay. The parameters are initialized following DeepNet [WMD+22] to guarantee training stability. The implementation is based on TorchScale [MWH+22]. We train the models with 512 AMD MI200 GPUs.\\n\\n3.2 Comparisons with Transformer\\n\\nLanguage Modeling As shown in Figure 5, we report perplexity on the validation set for the language models based on Transformer and RetNet. We present the scaling curves with three model sizes, i.e., 1.3B, 2.7B, and 6.7B. RetNet achieves comparable results with Transformers. More importantly, the results indicate that RetNet is favorable regarding size scaling. Besides performance, the RetNet training is quite stable in our experiments. Experimental results show that RetNet is a strong competitor to Transformer for large language models. Empirically, we find that RetNet starts to outperform Transformer when the model size is larger than 2B. We also summarize the language modeling results with different context lengths in Appendix B.\\n\\n2We find that appending the <bos> token at the beginning benefits training stability and performance.\\n\\n7\\n\\nHS\\n\\nBoolQ COPA PIQA Winograd Winogrande\\n\\nSC\\n\\nAvg\\n\\nZero-Shot Transformer RetNet\\n\\n55.9 60.7\\n\\n62.0 62.2\\n\\n69.0 77.0\\n\\n74.6 75.4\\n\\n69.5 77.2\\n\\n56.5 58.1\\n\\n75.0 76.0\\n\\n66.07 69.51\\n\\n4-Shot\\n\\nTransformer RetNet\\n\\n55.8 60.5\\n\\n58.7 60.1\\n\\n71.0 78.0\\n\\n75.0 76.0\\n\\n71.9 77.9\\n\\n57.3 59.9\\n\\n75.4 75.9\\n\\n66.44 69.76\\n\\nTable 3: Zero-shot and few-shot learning with Transformer and RetNet. The model size is 6.7B.\\n\\nModel Size\\n\\nMemory (GB) ↓ Trm Trm+FlashAttn RetNet\\n\\nTrm\\n\\nThroughput (wps) ↑ Trm+FlashAttn\\n\\nRetNet\\n\\n1.3B 2.7B 6.7B 13B\\n\\n74.8 69.6 69.0 61.4\\n\\n38.8 42.1 51.4 46.3\\n\\n34.5 42.0 48.0 45.9\\n\\n10832.4 5186.0 2754.4 1208.9\\n\\n63965.2 34990.2 16230.1 7945.1\\n\\n73344.8 38921.2 17458.6 8642.2\\n\\nTable 4: Training cost of Transformer (Trm), Transformer with FlashAttention (Trm+FlashAttn), and RetNet. We report memory consumption and training throughput (word per second; wps).\\n\\nZero-Shot and Few-Shot Evaluation on Downstream Tasks We also compare the language models on a wide range of downstream tasks. We evaluate zero-shot and 4-shot learning with the 6.7B models. As shown in Table 3, the datasets include HellaSwag (HS) [ZHB+19], BoolQ [CLC+19], COPA [WPN+19], PIQA [BZB+20], Winograd, Winogrande [LDM12], and Sto- ryCloze (SC) [MRL+17]. The accuracy numbers are consistent with language modeling perplexity presented in Figure 5. RetNet achieves comparable performance with Transformer on zero-shot and in-context learning settings.\\n\\n3.3 Training Cost\\n\\nAs shown in Table 4, we compare the training speed and memory consumption of Transformer and RetNet, where the training sequence length is 8192. We also compare with FlashAttention [DFE+22], which improves speed and reduces GPU memory IO by recomputation and kernel fusion. In compari- son, we implement RetNet using vanilla PyTorch code, and leave kernel fusion or FlashAttention-like acceleration for future work. We use chunkwise recurrent representation of retention as described in Equation (7). The chunk size is set to 512. We evaluate the results with eight Nvidia A100-80GB GPUs, because FlashAttention is highly optimized for A100. Tensor parallelism is enabled for 6.7B and 13B models.\\n\\nExperimental results show that RetNet is more memory-efficient and has higher throughput than Transformers during training. Even compared with FlashAttention, RetNet is still competitive in terms of speed and memory cost. Moreover, without relying on specific kernels, it is easy to train RetNet on other platforms efficiently. For example, we train the RetNet models on an AMD MI200 cluster with decent throughput. It is notable that RetNet has the potential to further reduce cost via advanced implementation, such as kernel fusion.\\n\\n3.4\\n\\nInference Cost\\n\\nAs shown in Figure 6, we compare memory cost, throughput, and latency of Transformer and RetNet during inference. Transformers reuse KV caches of previously decoded tokens. RetNet uses the recurrent representation as described in Equation (6). We evaluate the 6.7B model on the A100-80GB GPU in our experiments. Figure 6 shows that RetNet outperforms Transformer in terms of inference cost.\\n\\nMemory As shown in Figure 6a, the memory cost of Transformer increases linearly due to KV caches. In contrast, the memory consumption of RetNet remains consistent even for long sequences,\\n\\n8\\n\\n30\\n\\nRetNet\\n\\n8192Sequence Length\\n\\n5120\\n\\nTransformer\\n\\n3072\\n\\nModel Weights\\n\\n2048\\n\\n20\\n\\n6144\\n\\n4096\\n\\n40\\n\\n15\\n\\n7168\\n\\n45GPU Memory (GB)\\n\\n25\\n\\n35\\n\\n150\\n\\n200\\n\\n250\\n\\n2048\\n\\n8192Sequence Length\\n\\nRetNet\\n\\n300Throughput (wps)\\n\\n100\\n\\n5120\\n\\nTransformer\\n\\n3072\\n\\n4096\\n\\n6144\\n\\n50\\n\\n7168\\n\\n(a) GPU memory cost of Transformer and RetNet.\\n\\n(b) Throughput of Transformer and RetNet.\\n\\nTransformer (4096)\\n\\n300\\n\\n8Batch Size\\n\\n7\\n\\n5\\n\\n1\\n\\n6\\n\\n50\\n\\n350Latency (ms)\\n\\n3\\n\\nTransformer (2048)\\n\\nTransformer (1024)\\n\\n4\\n\\n250\\n\\n200\\n\\nRetNet (8192)\\n\\n150\\n\\n100\\n\\n2\\n\\nTransformer (8192)\\n\\n(c) Inference latency with different batch sizes.\\n\\nFigure 6: Inference cost of Transformer and RetNet with a model size of 6.7B. RetNet outperforms Transformers in terms of memory consumption, throughput, and latency.\\n\\nrequiring much less GPU memory to host RetNet. The additional memory consumption of RetNet is almost negligible (i.e., about 3%) while the model weights occupy 97%.\\n\\nThroughput As presented in Figure 6b, the throughput of Transformer drops along with the decoding length increases. In comparison, RetNet has higher and length-invariant throughput during decoding, by utilizing the recurrent representation of retention.\\n\\nLatency Latency is an important metric in deployment, which greatly affects user experience. We report decoding latency in Figure 6c. Experimental results show that increasing batch size renders Transformer’s latency larger. Moreover, the latency of Transformers grows faster with longer input. In order to make latency acceptable, we have to restrict the batch size, which harms the overall inference throughput of Transformers. By contrast, RetNet’s decoding latency outperforms Transformers and keeps almost the same across different batch sizes and input lengths.\\n\\n3.5 Comparison with Transformer Variants\\n\\nApart from Transformer, we compare RetNet with various efficient Transformer variants, including Linear Transformer [KVPF20], RWKV [PAA+23], H3 [DFS+22], and Hyena [PMN+23]. All models have 200M parameters with 16 layers and a hidden dimension of 1024. For H3, we set the head dimension as 8. For RWKV, we use the TimeMix module to substitute self-attention layers while keeping FFN layers consistent with other models for fair comparisons. We train the models with 10k steps with a batch size of 0.5M tokens. Most hyperparameters and training corpora are kept the same as in Section 3.1.\\n\\nTable 5 reports the perplexity numbers on the in-domain validation set and other out-of-domain corpora, e.g., Project Gutenberg 2019-2022 (PG22) [SDP+22], QMSum [ZYY+21], GovRe-\\n\\n9\\n\\nMethod\\n\\nIn-Domain\\n\\nPG22 QMSum GovReport\\n\\nSummScreen\\n\\nRWKV H3 Hyena Linear Transformer RetNet\\n\\n30.92 29.97 32.08 40.24 26.05\\n\\n51.41 49.17 52.75 63.86 45.27\\n\\n28.17 24.29 28.18 28.45 21.33\\n\\n19.80 19.19 20.55 25.33 16.52\\n\\n25.78 25.11 26.51 32.02 22.48\\n\\nTable 5: Perplexity results on language modeling. RetNet outperforms other architectures on both the in-domain evaluation set and various out-of-domain corpora.\\n\\nMethod\\n\\nIn-Domain\\n\\nPG22 QMSum GovReport\\n\\nSummScreen\\n\\nRetNet − swish gate − GroupNorm − γ decay − multi-scale decay Reduce head dimension\\n\\n26.05 27.84 27.54 27.86 27.02 27.68\\n\\n45.27 49.44 46.95 47.85 47.18 47.72\\n\\n21.33 22.52 22.61 21.99 22.08 23.09\\n\\n16.52 17.45 17.59 17.49 17.17 17.46\\n\\n22.48 23.72 23.73 23.70 23.38 23.41\\n\\nTable 6: Ablation results on in-domain and out-of-domain corpora.\\n\\nport [HCP+21], SummScreen [CCWG21, SSI+22]. Overall, RetNet outperforms previous methods across different datasets. RetNet not only achieves better evaluation results on the in-domain corpus but also obtains lower perplexity on several out-of-domain datasets. The favorable performance makes RetNet a strong successor to Transformer, besides the benefits of significant cost reduction (Sections 3.3 and 3.4).\\n\\nIn addition, we discuss the training and inference efficiency of the compared methods. Let d denote the hidden dimension, and n the sequence length. For training, RWKV’s token-mixing complexity is O(dn) while Hyena’s is O(dn log n) with Fast Fourier Transform acceleration. The above two methods reduce training FLOPS via employing element-wise operators to trade-off modeling capacity. In comparison with retention, the chunk-wise recurrent representation is O(dn(b + h)), where b is the chunk size, h is the head dimension, and we usually set b = 512, h = 256. For either large model size (i.e., larger d) or sequence length, the additional b + h has negligible effects. So the RetNet training is quite efficient without sacrificing the modeling performance. For inference, among the compared efficient architectures, Hyena has the same complexity (i.e., O(n) per step) as Transformer while the others can perform O(1) decoding.\\n\\n3.6 Ablation Studies\\n\\nWe ablate various design choices of RetNet and report the language modeling results in Table 6. The evaluation settings and metrics are the same as in Section 3.5.\\n\\nArchitecture We ablate the swish gate and GroupNorm as described in Equation (8). Table 6 shows that the above two components improve the final performance. Firstly, the gating module is essential for enhancing non-linearity and improving model capability. Notice that we use the same parameter allocation as Transformers after removing the gate. Secondly, group normalization in retention balances the variances of multi-head outputs, which improves training stability and language modeling results.\\n\\nMulti-Scale Decay Equation (8) shows that we use different γ as the decay rates for the retention heads. In the ablation studies, we examine removing γ decay (i.e., “− γ decay”) and applying the same decay rate across heads (i.e., “− multi-scale decay”). Specifically, ablating γ decay is equivalent to γ = 1. In the second setting, we set γ = 127/128 for all heads. Table 6 indicates that both the decay mechanism and using multiple decay rates can improve the language modeling performance.\\n\\nHead Dimension From the recurrent perspective of Equation (1), the head dimension implies the memory capacity of hidden states. In the ablation study, we reduce the default head dimension from\\n\\n10\\n\\n256 to 64, i.e., 64 for queries and keys, and 128 for values. We keep the hidden dimension dmodel the same so the number of heads increases. Experimental results in Table 6 show that the larger head dimension achieves better performance.\\n\\n4 Conclusion\\n\\nIn this work, we propose retentive networks (RetNet) for sequence modeling, which enables various representations, i.e., parallel, recurrent, and chunkwise recurrent. RetNet achieves significantly better inference efficiency (in terms of memory, speed, and latency), favorable training parallelization, and competitive performance compared with Transformers. The above advantages make RetNet an ideal successor to Transformers for large language models, especially considering the deployment benefits brought by the O(1) inference complexity. In the future, we would like to scale up RetNet in terms of model size [CDH+22] and training steps. Moreover, retention can efficiently work with structured prompting [HSD+22b] by compressing long-term memory. We will also use RetNet as the backbone architecture to train multimodal large language models [HSD+22a, HDW+23, PWD+23]. In addition, we are interested in deploying RetNet models on various edge devices, such as mobile phones.\\n\\nAcknowledgement\\n\\nWe would like to acknowledge Jiayu Ding, Songlin Yang, and colleagues from MSRA System Group for the helpful discussions.\\n\\nReferences\\n\\n[BKH16] Jimmy Lei Ba, Jamie Ryan Kiros, and Geoffrey E Hinton. Layer normalization. arXiv\\n\\npreprint arXiv:1607.06450, 2016.\\n\\n[BMR+20] Tom Brown, Benjamin Mann, Nick Ryder, Melanie Subbiah, Jared D Kaplan, Prafulla Dhariwal, Arvind Neelakantan, Pranav Shyam, Girish Sastry, Amanda Askell, Sand- hini Agarwal, Ariel Herbert-Voss, Gretchen Krueger, Tom Henighan, Rewon Child, Aditya Ramesh, Daniel Ziegler, Jeffrey Wu, Clemens Winter, Chris Hesse, Mark Chen, Eric Sigler, Mateusz Litwin, Scott Gray, Benjamin Chess, Jack Clark, Christopher Berner, Sam McCandlish, Alec Radford, Ilya Sutskever, and Dario Amodei. Language models are few-shot learners. In Advances in Neural Information Processing Systems, volume 33, pages 1877–1901. Curran Associates, Inc., 2020.\\n\\n[BZB+20] Yonatan Bisk, Rowan Zellers, Ronan Le Bras, Jianfeng Gao, and Yejin Choi. Piqa: Reasoning about physical commonsense in natural language. In Thirty-Fourth AAAI Conference on Artificial Intelligence, 2020.\\n\\n[CCWG21] Mingda Chen, Zewei Chu, Sam Wiseman, and Kevin Gimpel. Summscreen: A dataset\\n\\nfor abstractive screenplay summarization. arXiv preprint arXiv:2104.07091, 2021.\\n\\n[CDH+22] Zewen Chi, Li Dong, Shaohan Huang, Damai Dai, Shuming Ma, Barun Patra, Saksham Singhal, Payal Bajaj, Xia Song, Xian-Ling Mao, Heyan Huang, and Furu Wei. On the representation collapse of sparse mixture of experts. In Advances in Neural Information Processing Systems, 2022.\\n\\n[CLC+19] Christopher Clark, Kenton Lee, Ming-Wei Chang, Tom Kwiatkowski, Michael Collins, and Kristina Toutanova. BoolQ: Exploring the surprising difficulty of natural yes/no questions. In Proceedings of the 2019 Conference of the North American Chapter of the Association for Computational Linguistics, pages 2924–2936, 2019.\\n\\n[DFE+22] Tri Dao, Dan Fu, Stefano Ermon, Atri Rudra, and Christopher Ré. Flashattention: Fast and memory-efficient exact attention with io-awareness. Advances in Neural Information Processing Systems, 35:16344–16359, 2022.\\n\\n[DFS+22] Tri Dao, Daniel Y Fu, Khaled K Saab, Armin W Thomas, Atri Rudra, and Christopher Ré. Hungry hungry hippos: Towards language modeling with state space models. arXiv preprint arXiv:2212.14052, 2022.\\n\\n11\\n\\n[DMI+21] Jesse Dodge, Ana Marasovi´c, Gabriel Ilharco, Dirk Groeneveld, Margaret Mitchell, and Matt Gardner. Documenting large webtext corpora: A case study on the colossal clean crawled corpus. In Conference on Empirical Methods in Natural Language Processing, 2021.\\n\\n[GBB+20] Leo Gao, Stella Biderman, Sid Black, Laurence Golding, Travis Hoppe, Charles Foster, Jason Phang, Horace He, Anish Thite, Noa Nabeshima, et al. The Pile: An 800GB dataset of diverse text for language modeling. arXiv preprint arXiv:2101.00027, 2020.\\n\\n[GGR21] Albert Gu, Karan Goel, and Christopher Ré. Efficiently modeling long sequences with\\n\\nstructured state spaces. arXiv preprint arXiv:2111.00396, 2021.\\n\\n[HCP+21] Luyang Huang, Shuyang Cao, Nikolaus Parulian, Heng Ji, and Lu Wang. Efficient attentions for long document summarization. arXiv preprint arXiv:2104.02112, 2021.\\n\\n[HDW+23] Shaohan Huang, Li Dong, Wenhui Wang, Yaru Hao, Saksham Singhal, Shuming Ma, Tengchao Lv, Lei Cui, Owais Khan Mohammed, Qiang Liu, Kriti Aggarwal, Zewen Chi, Johan Bjorck, Vishrav Chaudhary, Subhojit Som, Xia Song, and Furu Wei. Language is not all you need: Aligning perception with language models. ArXiv, abs/2302.14045, 2023.\\n\\n[HG16] Dan Hendrycks and Kevin Gimpel. Gaussian error linear units (GELUs). arXiv:\\n\\nLearning, 2016.\\n\\n[HS97] Sepp Hochreiter and Jürgen Schmidhuber. Long short-term memory. Neural Computa-\\n\\ntion, 9:1735–1780, November 1997.\\n\\n[HSD+22a] Yaru Hao, Haoyu Song, Li Dong, Shaohan Huang, Zewen Chi, Wenhui Wang, Shum- ing Ma, and Furu Wei. Language models are general-purpose interfaces. ArXiv, abs/2206.06336, 2022.\\n\\n[HSD+22b] Yaru Hao, Yutao Sun, Li Dong, Zhixiong Han, Yuxian Gu, and Furu Wei. Structured prompting: Scaling in-context learning to 1,000 examples. ArXiv, abs/2212.06713, 2022.\\n\\n[KLBA+22] Denis Kocetkov, Raymond Li, Loubna Ben Allal, Jia Li, Chenghao Mou, Carlos Muñoz Ferrandis, Yacine Jernite, Margaret Mitchell, Sean Hughes, Thomas Wolf, Dzmitry Bahdanau, Leandro von Werra, and Harm de Vries. The Stack: 3TB of permissively licensed source code. Preprint, 2022.\\n\\n[KVPF20] Angelos Katharopoulos, Apoorv Vyas, Nikolaos Pappas, and François Fleuret. Trans- formers are rnns: Fast autoregressive transformers with linear attention. In International Conference on Machine Learning, pages 5156–5165. PMLR, 2020.\\n\\n[LDM12] Hector Levesque, Ernest Davis, and Leora Morgenstern. The winograd schema chal- lenge. In Thirteenth International Conference on the Principles of Knowledge Repre- sentation and Reasoning, 2012.\\n\\n[LH19] Ilya Loshchilov and Frank Hutter. Decoupled weight decay regularization. In Interna-\\n\\ntional Conference on Learning Representations, 2019.\\n\\n[MRL+17] Nasrin Mostafazadeh, Michael Roth, Annie Louis, Nathanael Chambers, and James Allen. Lsdsem 2017 shared task: The story cloze test. In Proceedings of the 2nd Workshop on Linking Models of Lexical, Sentential and Discourse-level Semantics, pages 46–51, 2017.\\n\\n[MWH+22] Shuming Ma, Hongyu Wang, Shaohan Huang, Wenhui Wang, Zewen Chi, Li Dong, Alon Benhaim, Barun Patra, Vishrav Chaudhary, Xia Song, and Furu Wei. TorchScale: Transformers at scale. CoRR, abs/2211.13184, 2022.\\n\\n[OSG+23] Antonio Orvieto, Samuel L. Smith, Albert Gu, Anushan Fernando, Caglar Gulcehre, Razvan Pascanu, and Soham De. Resurrecting recurrent neural networks for long sequences. ArXiv, abs/2303.06349, 2023.\\n\\n12\\n\\n[PAA+23] Bo Peng, Eric Alcaide, Quentin Anthony, Alon Albalak, Samuel Arcadinho, Huanqi Cao, Xin Cheng, Michael Chung, Matteo Grella, Kranthi Kiran GV, Xuzheng He, Haowen Hou, Przemyslaw Kazienko, Jan Kocon, Jiaming Kong, Bartlomiej Koptyra, Hayden Lau, Krishna Sri Ipsit Mantri, Ferdinand Mom, Atsushi Saito, Xiangru Tang, Bolun Wang, Johan S. Wind, Stansilaw Wozniak, Ruichong Zhang, Zhenyuan Zhang, Qihang Zhao, Peng Zhou, Jian Zhu, and Rui-Jie Zhu. Rwkv: Reinventing rnns for the transformer era, 2023.\\n\\n[PMN+23] Michael Poli, Stefano Massaroli, Eric Nguyen, Daniel Y Fu, Tri Dao, Stephen Baccus, Yoshua Bengio, Stefano Ermon, and Christopher Ré. Hyena hierarchy: Towards larger convolutional language models. arXiv preprint arXiv:2302.10866, 2023. [PWD+23] Zhiliang Peng, Wenhui Wang, Li Dong, Yaru Hao, Shaohan Huang, Shuming Ma, and Furu Wei. Kosmos-2: Grounding multimodal large language models to the world. ArXiv, abs/2306.14824, 2023.\\n\\n[RZL17] Prajit Ramachandran, Barret Zoph, and Quoc V. Le. Swish: a self-gated activation\\n\\nfunction. arXiv: Neural and Evolutionary Computing, 2017.\\n\\n[SDP+22] Yutao Sun, Li Dong, Barun Patra, Shuming Ma, Shaohan Huang, Alon Benhaim, Vishrav Chaudhary, Xia Song, and Furu Wei. A length-extrapolatable transformer. arXiv preprint arXiv:2212.10554, 2022.\\n\\n[Sha19] Noam M. Shazeer. Fast transformer decoding: One write-head is all you need. ArXiv,\\n\\nabs/1911.02150, 2019.\\n\\n[SLP+21] Jianlin Su, Yu Lu, Shengfeng Pan, Bo Wen, and Yunfeng Liu. Roformer: Enhanced transformer with rotary position embedding. arXiv preprint arXiv:2104.09864, 2021. [SPP+19] Mohammad Shoeybi, Mostofa Patwary, Raul Puri, Patrick LeGresley, Jared Casper, and Bryan Catanzaro. Megatron-LM: Training multi-billion parameter language models using model parallelism. arXiv preprint arXiv:1909.08053, 2019.\\n\\n[SSI+22] Uri Shaham, Elad Segal, Maor Ivgi, Avia Efrat, Ori Yoran, Adi Haviv, Ankit Gupta, Wenhan Xiong, Mor Geva, Jonathan Berant, et al. Scrolls: Standardized comparison over long language sequences. arXiv preprint arXiv:2201.03533, 2022.\\n\\n[VSP+17] Ashish Vaswani, Noam Shazeer, Niki Parmar, Jakob Uszkoreit, Llion Jones, Aidan N. Gomez, Lukasz Kaiser, and Illia Polosukhin. Attention is all you need. In Advances in Neural Information Processing Systems 30: Annual Conference on Neural Information Processing Systems 2017, 4-9 December 2017, Long Beach, CA, USA, pages 6000– 6010, 2017.\\n\\n[WH18] Yuxin Wu and Kaiming He. Group normalization. In Proceedings of the European\\n\\nconference on computer vision (ECCV), pages 3–19, 2018.\\n\\n[WMD+22] Hongyu Wang, Shuming Ma, Li Dong, Shaohan Huang, Dongdong Zhang, and Furu\\n\\nWei. DeepNet: Scaling Transformers to 1,000 layers. ArXiv, abs/2203.00555, 2022.\\n\\n[WMH+22] Hongyu Wang, Shuming Ma, Shaohan Huang, Li Dong, Wenhui Wang, Zhiliang Peng, Yu Wu, Payal Bajaj, Saksham Singhal, Alon Benhaim, et al. Foundation transformers. arXiv preprint arXiv:2210.06423, 2022.\\n\\n[WPN+19] Alex Wang, Yada Pruksachatkun, Nikita Nangia, Amanpreet Singh, Julian Michael, Felix Hill, Omer Levy, and Samuel R Bowman. SuperGLUE: A stickier benchmark for general-purpose language understanding systems. arXiv preprint arXiv:1905.00537, 2019.\\n\\n[ZHB+19] Rowan Zellers, Ari Holtzman, Yonatan Bisk, Ali Farhadi, and Yejin Choi. Hellaswag: Can a machine really finish your sentence? In Proceedings of the 57th Annual Meeting of the Association for Computational Linguistics, 2019.\\n\\n[ZYY+21] Ming Zhong, Da Yin, Tao Yu, Ahmad Zaidi, Mutethia Mutuma, Rahul Jha, Ahmed Has- san Awadallah, Asli Celikyilmaz, Yang Liu, Xipeng Qiu, et al. Qmsum: A new benchmark for query-based multi-domain meeting summarization. arXiv preprint arXiv:2104.05938, 2021.\\n\\n13\\n\\nA Hyperparameters\\n\\nHyperparameters\\n\\n1.3B\\n\\n2.7B\\n\\n6.7B\\n\\nLayers Hidden size FFN size Heads\\n\\nLearning rate LR scheduler Warm-up steps Tokens per batch Adam β Training steps\\n\\n24 2048 4096 8 6 × 10−4\\n\\n32 2560 5120 10 3 × 10−4 Polynomial decay 375 4M (0.9, 0.98) 25,000\\n\\n32 4096 8192 16 3 × 10−4\\n\\nGradient clipping Dropout Weight decay\\n\\n2.0 0.1 0.01\\n\\nTable 7: Hyperparamters used for the models in Section 3.\\n\\nB Grouped Results of Different Context Lengths\\n\\nAs shown in Table 8, we report language modeling results with different context lengths. In order to make the numbers comparable, we use 2048 text chunks as evaluation data and only compute perplexity for the last 128 tokens. Experimental results show that RetNet outperforms Transformer across different context lengths. Besides, RetNet can utilize longer context for better results.\\n\\nModel\\n\\n512\\n\\n1024\\n\\n2048\\n\\nTransformer RetNet\\n\\n13.55 13.09\\n\\n12.56 12.14\\n\\n12.35 11.98\\n\\nTable 8: Language modeling perplexity of RetNet and Transformer with different context length. The results show that RetNet has a consistent advantage across sequence length.\\n\\n14', metadata={'source': '../documents/2307.08621.pdf'})"
      ]
     },
     "execution_count": 11,
     "metadata": {},
     "output_type": "execute_result"
    }
   ],
   "source": [
    "documents[0]\n"
   ]
  },
  {
   "cell_type": "code",
   "execution_count": 12,
   "id": "3da361b8-4c57-4f2f-95a7-b917cce4cb5c",
   "metadata": {},
   "outputs": [
    {
     "name": "stderr",
     "output_type": "stream",
     "text": [
      "Created a chunk of size 1161, which is longer than the specified 1000\n",
      "Created a chunk of size 5132, which is longer than the specified 1000\n",
      "Created a chunk of size 1031, which is longer than the specified 1000\n",
      "Created a chunk of size 1172, which is longer than the specified 1000\n",
      "Created a chunk of size 1010, which is longer than the specified 1000\n",
      "Created a chunk of size 1398, which is longer than the specified 1000\n",
      "Created a chunk of size 1017, which is longer than the specified 1000\n",
      "Created a chunk of size 1186, which is longer than the specified 1000\n",
      "Created a chunk of size 1232, which is longer than the specified 1000\n",
      "Created a chunk of size 1318, which is longer than the specified 1000\n",
      "Created a chunk of size 1158, which is longer than the specified 1000\n",
      "Created a chunk of size 1399, which is longer than the specified 1000\n",
      "Created a chunk of size 1111, which is longer than the specified 1000\n",
      "Created a chunk of size 1338, which is longer than the specified 1000\n",
      "Created a chunk of size 1479, which is longer than the specified 1000\n"
     ]
    },
    {
     "name": "stdout",
     "output_type": "stream",
     "text": [
      "111\n"
     ]
    }
   ],
   "source": [
    "text_splitter = CharacterTextSplitter(chunk_size=1000, chunk_overlap=40) #chunk overlap seems to work better\n",
    "documents = text_splitter.split_documents(documents)\n",
    "print(len(documents))"
   ]
  },
  {
   "cell_type": "code",
   "execution_count": 13,
   "id": "2ea4871d-b367-4168-ab0b-394ad668e357",
   "metadata": {},
   "outputs": [
    {
     "data": {
      "text/plain": [
       "Document(page_content='3 2 0 2\\n\\ng u A 9\\n\\n] L C . s c [\\n\\n4 v 1 2 6 8 0 . 7 0 3 2 : v i X r a\\n\\nRetentive Network: A Successor to Transformer for Large Language Models\\n\\nYutao Sun∗ †‡ Li Dong∗ † Shaohan Huang† Shuming Ma† Yuqing Xia† Jilong Xue† Jianyong Wang‡ Furu Wei†⋄\\n\\n† Microsoft Research\\n\\n‡ Tsinghua University\\n\\nhttps://aka.ms/GeneralAI\\n\\nAbstract', metadata={'source': '../documents/2307.08621.pdf'})"
      ]
     },
     "execution_count": 13,
     "metadata": {},
     "output_type": "execute_result"
    }
   ],
   "source": [
    "documents[0]"
   ]
  },
  {
   "cell_type": "code",
   "execution_count": 14,
   "id": "2431732e-f89b-4353-884e-b1104ae2d3f5",
   "metadata": {},
   "outputs": [
    {
     "data": {
      "text/plain": [
       "Document(page_content='In this work, we propose Retentive Network (RETNET) as a foundation archi- tecture for large language models, simultaneously achieving training parallelism, low-cost inference, and good performance. We theoretically derive the connection between recurrence and attention. Then we propose the retention mechanism for sequence modeling, which supports three computation paradigms, i.e., parallel, recurrent, and chunkwise recurrent. Specifically, the parallel representation allows for training parallelism. The recurrent representation enables low-cost O(1) infer- ence, which improves decoding throughput, latency, and GPU memory without sacrificing performance. The chunkwise recurrent representation facilitates effi- cient long-sequence modeling with linear complexity, where each chunk is encoded parallelly while recurrently summarizing the chunks. Experimental results on language modeling show that RETNET achieves favorable scaling results, parallel training, low-cost deployment, and efficient inference. The intriguing properties make RETNET a strong successor to Transformer for large language models. Code will be available at https://aka.ms/retnet.', metadata={'source': '../documents/2307.08621.pdf'})"
      ]
     },
     "execution_count": 14,
     "metadata": {},
     "output_type": "execute_result"
    }
   ],
   "source": [
    "documents[1]"
   ]
  },
  {
   "cell_type": "code",
   "execution_count": 15,
   "id": "856bb3fc-9e78-4bf6-83eb-a36d490cc81c",
   "metadata": {},
   "outputs": [],
   "source": [
    "embeddings = OpenAIEmbeddings()"
   ]
  },
  {
   "cell_type": "code",
   "execution_count": 16,
   "id": "1ec349fd-2c4f-433b-b785-b17484eb3920",
   "metadata": {},
   "outputs": [],
   "source": [
    "from langchain.vectorstores import Chroma\n",
    "vectorstore = Chroma.from_documents(documents, embeddings)\n"
   ]
  },
  {
   "cell_type": "code",
   "execution_count": 21,
   "id": "ca16d1a9-ecc1-499d-bb16-09c1babcd50e",
   "metadata": {},
   "outputs": [],
   "source": [
    "text = \"What makes Retentive Networks good?\"\n",
    "docs = vectorstore.similarity_search(text)"
   ]
  },
  {
   "cell_type": "code",
   "execution_count": 24,
   "id": "b29eee5a-e8c4-4d4f-8de5-a89f1a823a6b",
   "metadata": {},
   "outputs": [
    {
     "name": "stdout",
     "output_type": "stream",
     "text": [
      "4 Conclusion\n",
      "\n",
      "In this work, we propose retentive networks (RetNet) for sequence modeling, which enables various representations, i.e., parallel, recurrent, and chunkwise recurrent. RetNet achieves significantly better inference efficiency (in terms of memory, speed, and latency), favorable training parallelization, and competitive performance compared with Transformers. The above advantages make RetNet an ideal successor to Transformers for large language models, especially considering the deployment benefits brought by the O(1) inference complexity. In the future, we would like to scale up RetNet in terms of model size [CDH+22] and training steps. Moreover, retention can efficiently work with structured prompting [HSD+22b] by compressing long-term memory. We will also use RetNet as the backbone architecture to train multimodal large language models [HSD+22a, HDW+23, PWD+23]. In addition, we are interested in deploying RetNet models on various edge devices, such as mobile phones.\n"
     ]
    }
   ],
   "source": [
    "print(docs[0].page_content)\n"
   ]
  },
  {
   "cell_type": "code",
   "execution_count": 25,
   "id": "ee975b49-a460-4121-99e9-30784aabfda5",
   "metadata": {},
   "outputs": [],
   "source": [
    "from langchain.llms import OpenAI\n",
    "retriever = vectorstore.as_retriever(search_type=\"similarity\", search_kwargs={\"k\":2})\n",
    "qa = ConversationalRetrievalChain.from_llm(OpenAI(temperature=0), retriever)\n"
   ]
  },
  {
   "cell_type": "code",
   "execution_count": 26,
   "id": "b57eb2e5-76ae-4ba8-bb53-bddca6260d35",
   "metadata": {},
   "outputs": [
    {
     "data": {
      "text/plain": [
       "' Retentive Networks (RetNet) are good because they enable various representations, have significantly better inference efficiency, have favorable training parallelization, and have competitive performance compared to Transformers.'"
      ]
     },
     "execution_count": 26,
     "metadata": {},
     "output_type": "execute_result"
    }
   ],
   "source": [
    "chat_history = []\n",
    "query = \"What makes Retentive Networks good?\"\n",
    "result = qa({\"question\": query, \"chat_history\": chat_history})\n",
    "result[\"answer\"]"
   ]
  },
  {
   "cell_type": "code",
   "execution_count": 27,
   "id": "860c26f3-4f54-40bc-87a2-df8954fcd6b0",
   "metadata": {},
   "outputs": [
    {
     "data": {
      "text/plain": [
       "[('What makes Retentive Networks good?',\n",
       "  ' Retentive Networks (RetNet) are good because they enable various representations, have significantly better inference efficiency, have favorable training parallelization, and have competitive performance compared to Transformers.')]"
      ]
     },
     "execution_count": 27,
     "metadata": {},
     "output_type": "execute_result"
    }
   ],
   "source": [
    "chat_history.append((query, result[\"answer\"]))\n",
    "chat_history"
   ]
  },
  {
   "cell_type": "code",
   "execution_count": null,
   "id": "bfd08922-4467-4428-828f-1579c5308f33",
   "metadata": {},
   "outputs": [],
   "source": []
  }
 ],
 "metadata": {
  "kernelspec": {
   "display_name": "Python 3 (ipykernel)",
   "language": "python",
   "name": "python3"
  },
  "language_info": {
   "codemirror_mode": {
    "name": "ipython",
    "version": 3
   },
   "file_extension": ".py",
   "mimetype": "text/x-python",
   "name": "python",
   "nbconvert_exporter": "python",
   "pygments_lexer": "ipython3",
   "version": "3.11.5"
  }
 },
 "nbformat": 4,
 "nbformat_minor": 5
}
